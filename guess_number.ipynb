{
  "nbformat": 4,
  "nbformat_minor": 0,
  "metadata": {
    "colab": {
      "provenance": [],
      "authorship_tag": "ABX9TyOynt0xIy/XkJ3UPJRmVRPG",
      "include_colab_link": true
    },
    "kernelspec": {
      "name": "python3",
      "display_name": "Python 3"
    },
    "language_info": {
      "name": "python"
    }
  },
  "cells": [
    {
      "cell_type": "markdown",
      "metadata": {
        "id": "view-in-github",
        "colab_type": "text"
      },
      "source": [
        "<a href=\"https://colab.research.google.com/github/hadiazahid/A101-python-program/blob/main/guess_number.ipynb\" target=\"_parent\"><img src=\"https://colab.research.google.com/assets/colab-badge.svg\" alt=\"Open In Colab\"/></a>"
      ]
    },
    {
      "cell_type": "code",
      "source": [
        "#create a number gussing game in which user have to guess the number\n",
        "\n",
        "import random\n",
        "def guess_num():\n",
        "\n",
        "  number=random.randint(1,100)\n",
        "  guess_num=0\n",
        "  tries=0\n",
        "  while guess_num!=number:\n",
        "    tries+=1\n",
        "    guess_num=int(input(\"guess the number between 1 and 100 : \"))\n",
        "    if guess_num < number:\n",
        "      print(\"sorry guess number is Too low! guess again\")\n",
        "    elif guess_num > number:\n",
        "      print(\"sorry guess number is Too high! guess again\")\n",
        "    elif guess_num==number:\n",
        "      print(f\"Congratulation! you guessed the number in {tries} tries.\")\n",
        "\n",
        "guess_num()\n",
        "\n"
      ],
      "metadata": {
        "colab": {
          "base_uri": "https://localhost:8080/"
        },
        "id": "fJ8AAZjccubt",
        "outputId": "2f7cdace-63d4-42b0-f42a-8ef1990d3f8f"
      },
      "execution_count": 3,
      "outputs": [
        {
          "output_type": "stream",
          "name": "stdout",
          "text": [
            "guess the number between 1 and 100 : 43\n",
            "sorry guess number is Too high! guess again\n",
            "guess the number between 1 and 100 : 34\n",
            "sorry guess number is Too high! guess again\n",
            "guess the number between 1 and 100 : 23\n",
            "sorry guess number is Too low! guess again\n",
            "guess the number between 1 and 100 : 26\n",
            "sorry guess number is Too low! guess again\n",
            "guess the number between 1 and 100 : 29\n",
            "sorry guess number is Too low! guess again\n",
            "guess the number between 1 and 100 : 33\n",
            "sorry guess number is Too high! guess again\n",
            "guess the number between 1 and 100 : 32\n",
            "sorry guess number is Too high! guess again\n",
            "guess the number between 1 and 100 : 30\n",
            "Congratulation! you guessed the number in 8 tries.\n"
          ]
        }
      ]
    }
  ]
}
