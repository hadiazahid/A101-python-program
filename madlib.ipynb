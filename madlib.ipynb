{
  "nbformat": 4,
  "nbformat_minor": 0,
  "metadata": {
    "colab": {
      "provenance": [],
      "authorship_tag": "ABX9TyPKeWbWPK5VIiuKrAGUAfO7",
      "include_colab_link": true
    },
    "kernelspec": {
      "name": "python3",
      "display_name": "Python 3"
    },
    "language_info": {
      "name": "python"
    }
  },
  "cells": [
    {
      "cell_type": "markdown",
      "metadata": {
        "id": "view-in-github",
        "colab_type": "text"
      },
      "source": [
        "<a href=\"https://colab.research.google.com/github/hadiazahid/A101-python-program/blob/main/madlib.ipynb\" target=\"_parent\"><img src=\"https://colab.research.google.com/assets/colab-badge.svg\" alt=\"Open In Colab\"/></a>"
      ]
    },
    {
      "cell_type": "code",
      "execution_count": 10,
      "metadata": {
        "colab": {
          "base_uri": "https://localhost:8080/"
        },
        "id": "upFhuDQAChk-",
        "outputId": "26a2de1c-28af-4c7e-fcb6-54c21d862937"
      },
      "outputs": [
        {
          "output_type": "stream",
          "name": "stdout",
          "text": [
            "My name is hadia.Im doing Bs Software enginnering from Virtual university. And Im doing python language course from PIAIC . This course is very amazing. I have learnt alot of things form this course.\n"
          ]
        }
      ],
      "source": [
        "# write a few lines about myself in madlib using fstream method\n",
        "name=\"hadia\"\n",
        "subject=\"Bs Software enginnering\"\n",
        "uni=\"Virtual university\"\n",
        "language=\"python\"\n",
        "institute=\"PIAIC\"\n",
        "adj=\"amazing\"\n",
        "\n",
        "print(f\"My name is {name}.Im doing {subject} from {uni}. And Im doing {language} language \\\n",
        "course from {institute} . This course is very {adj}. I have learnt alot of things form this course.\")"
      ]
    }
  ]
}