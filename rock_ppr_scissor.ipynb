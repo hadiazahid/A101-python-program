{
  "nbformat": 4,
  "nbformat_minor": 0,
  "metadata": {
    "colab": {
      "provenance": [],
      "authorship_tag": "ABX9TyOhPuuvEMMRgIC1tQ35IT5m",
      "include_colab_link": true
    },
    "kernelspec": {
      "name": "python3",
      "display_name": "Python 3"
    },
    "language_info": {
      "name": "python"
    }
  },
  "cells": [
    {
      "cell_type": "markdown",
      "metadata": {
        "id": "view-in-github",
        "colab_type": "text"
      },
      "source": [
        "<a href=\"https://colab.research.google.com/github/hadiazahid/A101-python-program/blob/main/rock_ppr_scissor.ipynb\" target=\"_parent\"><img src=\"https://colab.research.google.com/assets/colab-badge.svg\" alt=\"Open In Colab\"/></a>"
      ]
    },
    {
      "cell_type": "code",
      "execution_count": null,
      "metadata": {
        "colab": {
          "base_uri": "https://localhost:8080/"
        },
        "id": "Wh7mF_fCEXD9",
        "outputId": "217bf353-9033-4012-d55e-d5c6f210ba92"
      },
      "outputs": [
        {
          "output_type": "stream",
          "name": "stdout",
          "text": [
            " \n",
            "Game start....\n",
            "1 yes\n",
            "2 NO | Exit\n",
            "            1\n",
            "\n",
            "       1 rock\n",
            "       2 paper\n",
            "       3 scissor\n",
            "             1\n",
            "computer value paper\n",
            "user value rock\n",
            "computer win!\n",
            "\n",
            "       1 rock\n",
            "       2 paper\n",
            "       3 scissor\n",
            "             2\n",
            "computer value scissor\n",
            "user value paper\n",
            "computer win!\n",
            "\n",
            "       1 rock\n",
            "       2 paper\n",
            "       3 scissor\n",
            "             3\n",
            "computer value paper\n",
            "user value scissor\n",
            "you win!\n",
            "\n",
            "       1 rock\n",
            "       2 paper\n",
            "       3 scissor\n",
            "             2\n",
            "computer value scissor\n",
            "user value paper\n",
            "computer win!\n",
            "\n",
            "       1 rock\n",
            "       2 paper\n",
            "       3 scissor\n",
            "             1\n",
            "computer value paper\n",
            "user value rock\n",
            "computer win!\n"
          ]
        }
      ],
      "source": [
        "import random\n",
        "list=['rock','paper','scissor']\n",
        "\n",
        "while True:\n",
        "  ccount=0\n",
        "  ucount=0\n",
        "  user_input=int(input('''\n",
        "Game start....\n",
        "1 yes\n",
        "2 NO | Exit\n",
        "            '''))\n",
        "  if user_input==1:\n",
        "    for x in range(1,6):\n",
        "       userchoice=int(input('''\n",
        "       1 rock\n",
        "       2 paper\n",
        "       3 scissor\n",
        "             '''))\n",
        "       if userchoice==1:\n",
        "        user_input=\"rock\"\n",
        "       elif userchoice==2:\n",
        "        user_input=\"paper\"\n",
        "       elif userchoice==3:\n",
        "          user_input=\"scissor\"\n",
        "       computer_choice=random.choice(list)\n",
        "       if computer_choice==user_input:\n",
        "            print(\"game draw!\")\n",
        "            print(\"computer value\",computer_choice)\n",
        "            print(\"user value\",user_input)\n",
        "            ucount=ucount+1\n",
        "            ccount=ccount+1\n",
        "       elif (computer_choice==\"scissor\" and user_input==\"rock\") or (computer_choice==\"paper\" and user_input==\"scissor\") or (computer_choice==\"rock\" and user_input==\"paper\"):\n",
        "             print(\"computer value\",computer_choice)\n",
        "             print(\"user value\",user_input)\n",
        "             print(\"you win!\")\n",
        "             ucount=ucount+1\n",
        "       else:\n",
        "                   print(\"computer value\",computer_choice)\n",
        "                   print(\"user value\",user_input)\n",
        "                   print(\"computer win!\")\n",
        "                   ccount=ccount+1\n",
        "  else:\n",
        "    break\n",
        ""
      ]
    }
  ]
}