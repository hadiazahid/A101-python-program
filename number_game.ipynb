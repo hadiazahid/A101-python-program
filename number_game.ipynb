{
  "nbformat": 4,
  "nbformat_minor": 0,
  "metadata": {
    "colab": {
      "provenance": [],
      "authorship_tag": "ABX9TyOxOvyeSgvp8Ykp+yDeY5CW",
      "include_colab_link": true
    },
    "kernelspec": {
      "name": "python3",
      "display_name": "Python 3"
    },
    "language_info": {
      "name": "python"
    }
  },
  "cells": [
    {
      "cell_type": "markdown",
      "metadata": {
        "id": "view-in-github",
        "colab_type": "text"
      },
      "source": [
        "<a href=\"https://colab.research.google.com/github/hadiazahid/A101-python-program/blob/main/number_game.ipynb\" target=\"_parent\"><img src=\"https://colab.research.google.com/assets/colab-badge.svg\" alt=\"Open In Colab\"/></a>"
      ]
    },
    {
      "cell_type": "code",
      "source": [
        "#create a number gussing game in which computer will guess the number\n",
        "\n",
        "import random\n",
        "def guess_num():\n",
        "\n",
        "  number=random.randint(1,100)\n",
        "  guess_num=0\n",
        "  tries=0\n",
        "  while guess_num!=number:\n",
        "    tries+=1\n",
        "    guess_num=int(input(\"guess the number between 1 and 100\"))\n",
        "    if guess_num<number:\n",
        "      print(\"guess number is Too low\")\n",
        "    elif guess_num > number:\n",
        "      print(\"guess number is Too high!\")\n",
        "    elif guess_num==number:\n",
        "      print(f\"Congratulation! you guessed the number in {tries} tries.\")\n",
        "\n",
        "guess_num()\n",
        "\n"
      ],
      "metadata": {
        "colab": {
          "base_uri": "https://localhost:8080/"
        },
        "id": "fJ8AAZjccubt",
        "outputId": "d0c151a7-82ab-446e-e1be-515d1d92df90"
      },
      "execution_count": null,
      "outputs": [
        {
          "output_type": "stream",
          "name": "stdout",
          "text": [
            "guess the number between 1 and 10034\n",
            "guess number is Too low\n",
            "guess the number between 1 and 10023\n",
            "guess number is Too low\n",
            "guess the number between 1 and 10054\n",
            "guess number is Too high!\n",
            "guess the number between 1 and 10023\n",
            "guess number is Too low\n",
            "guess the number between 1 and 10046\n",
            "guess number is Too low\n",
            "guess the number between 1 and 10054\n",
            "guess number is Too high!\n",
            "guess the number between 1 and 10053\n",
            "guess number is Too high!\n",
            "guess the number between 1 and 10052\n",
            "guess number is Too high!\n",
            "guess the number between 1 and 10048\n",
            "guess number is Too low\n",
            "guess the number between 1 and 10049\n",
            "guess number is Too low\n",
            "guess the number between 1 and 10050\n",
            "Congratulation! you guessed the number in 11 tries.\n"
          ]
        }
      ]
    }
  ]
}